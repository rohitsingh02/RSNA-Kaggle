{
 "cells": [
  {
   "cell_type": "code",
   "execution_count": 1,
   "metadata": {
    "execution": {
     "iopub.execute_input": "2020-10-26T07:36:09.920811Z",
     "iopub.status.busy": "2020-10-26T07:36:09.920017Z",
     "iopub.status.idle": "2020-10-26T07:36:40.204896Z",
     "shell.execute_reply": "2020-10-26T07:36:40.203974Z"
    },
    "papermill": {
     "duration": 30.322393,
     "end_time": "2020-10-26T07:36:40.205026",
     "exception": false,
     "start_time": "2020-10-26T07:36:09.882633",
     "status": "completed"
    },
    "tags": []
   },
   "outputs": [
    {
     "name": "stdout",
     "output_type": "stream",
     "text": [
      "gdcm/\r\n",
      "gdcm/conda-4.8.4-py37hc8dfbb8_2.tar.bz2\r\n",
      "gdcm/gdcm-2.8.9-py37h71b2a6d_0.tar.bz2\r\n",
      "gdcm/libjpeg-turbo-2.0.3-h516909a_1.tar.bz2\r\n",
      "\r\n",
      "Downloading and Extracting Packages\r\n",
      "######################################################################## | 100% \r\n",
      "Preparing transaction: - \b\bdone\r\n",
      "Verifying transaction: | \b\b/ \b\bdone\r\n",
      "Executing transaction: \\ \b\bdone\r\n"
     ]
    }
   ],
   "source": [
    "!cp ../input/gdcm-conda-install/gdcm.tar .\n",
    "!tar -xvzf gdcm.tar\n",
    "!conda install --offline ./gdcm/gdcm-2.8.9-py37h71b2a6d_0.tar.bz2"
   ]
  },
  {
   "cell_type": "code",
   "execution_count": 2,
   "metadata": {
    "execution": {
     "iopub.execute_input": "2020-10-26T07:36:40.273995Z",
     "iopub.status.busy": "2020-10-26T07:36:40.273076Z",
     "iopub.status.idle": "2020-10-26T07:36:40.275777Z",
     "shell.execute_reply": "2020-10-26T07:36:40.275151Z"
    },
    "papermill": {
     "duration": 0.03801,
     "end_time": "2020-10-26T07:36:40.275903",
     "exception": false,
     "start_time": "2020-10-26T07:36:40.237893",
     "status": "completed"
    },
    "tags": []
   },
   "outputs": [],
   "source": [
    "import os\n",
    "import sys\n",
    "sys.path = [\n",
    "    '../input/efficientnet-pytorch/EfficientNet-PyTorch/EfficientNet-PyTorch-master',\n",
    "] + sys.path"
   ]
  },
  {
   "cell_type": "code",
   "execution_count": 3,
   "metadata": {
    "_cell_guid": "b1076dfc-b9ad-4769-8c92-a6c4dae69d19",
    "_uuid": "8f2839f25d086af736a60e9eeb907d3b93b6e0e5",
    "execution": {
     "iopub.execute_input": "2020-10-26T07:36:40.345874Z",
     "iopub.status.busy": "2020-10-26T07:36:40.345161Z",
     "iopub.status.idle": "2020-10-26T07:36:43.109844Z",
     "shell.execute_reply": "2020-10-26T07:36:43.108958Z"
    },
    "papermill": {
     "duration": 2.804861,
     "end_time": "2020-10-26T07:36:43.109962",
     "exception": false,
     "start_time": "2020-10-26T07:36:40.305101",
     "status": "completed"
    },
    "tags": []
   },
   "outputs": [],
   "source": [
    "import os\n",
    "import cv2\n",
    "import glob\n",
    "import torch\n",
    "import random\n",
    "import pydicom\n",
    "import datetime\n",
    "import warnings\n",
    "import numpy as np\n",
    "import pandas as pd\n",
    "import seaborn as sns\n",
    "import matplotlib.pyplot as plt\n",
    "\n",
    "\n",
    "from tqdm.notebook import tqdm\n",
    "from torch.utils.data import Dataset\n",
    "from scipy.ndimage.interpolation import zoom\n",
    "from sklearn.model_selection import *"
   ]
  },
  {
   "cell_type": "markdown",
   "metadata": {
    "papermill": {
     "duration": 0.030906,
     "end_time": "2020-10-26T07:36:43.171568",
     "exception": false,
     "start_time": "2020-10-26T07:36:43.140662",
     "status": "completed"
    },
    "tags": []
   },
   "source": [
    "## Init"
   ]
  },
  {
   "cell_type": "code",
   "execution_count": 4,
   "metadata": {
    "execution": {
     "iopub.execute_input": "2020-10-26T07:36:43.238821Z",
     "iopub.status.busy": "2020-10-26T07:36:43.238043Z",
     "iopub.status.idle": "2020-10-26T07:36:43.242645Z",
     "shell.execute_reply": "2020-10-26T07:36:43.242017Z"
    },
    "papermill": {
     "duration": 0.04125,
     "end_time": "2020-10-26T07:36:43.242749",
     "exception": false,
     "start_time": "2020-10-26T07:36:43.201499",
     "status": "completed"
    },
    "tags": []
   },
   "outputs": [],
   "source": [
    "def seed_everything(seed):\n",
    "    \"\"\"\n",
    "    Seeds basic parameters for reproductibility of results\n",
    "\n",
    "    Arguments:\n",
    "        seed {int} -- Number of the seed\n",
    "    \"\"\"\n",
    "    random.seed(seed)\n",
    "    os.environ[\"PYTHONHASHSEED\"] = str(seed)\n",
    "    np.random.seed(seed)\n",
    "    torch.manual_seed(seed)\n",
    "    torch.cuda.manual_seed(seed)\n",
    "    torch.backends.cudnn.deterministic = True\n",
    "    torch.backends.cudnn.benchmark = True  # False"
   ]
  },
  {
   "cell_type": "code",
   "execution_count": 5,
   "metadata": {
    "execution": {
     "iopub.execute_input": "2020-10-26T07:36:43.312856Z",
     "iopub.status.busy": "2020-10-26T07:36:43.312179Z",
     "iopub.status.idle": "2020-10-26T07:36:43.669701Z",
     "shell.execute_reply": "2020-10-26T07:36:43.669108Z"
    },
    "papermill": {
     "duration": 0.395912,
     "end_time": "2020-10-26T07:36:43.669826",
     "exception": false,
     "start_time": "2020-10-26T07:36:43.273914",
     "status": "completed"
    },
    "tags": []
   },
   "outputs": [],
   "source": [
    "SEED = 2020\n",
    "seed_everything(SEED)\n",
    "\n",
    "MEAN = np.array([0.485, 0.456, 0.406])\n",
    "STD = np.array([0.229, 0.224, 0.225])\n",
    "\n",
    "DEVICE = torch.device(\"cuda\") if torch.cuda.is_available() else torch.device(\"cpu\")\n",
    "\n",
    "SIZE = 256\n",
    "\n",
    "IMG_TARGET = \"pe_present_on_image\"\n",
    "\n",
    "EXAM_TARGETS = [\n",
    "    \"negative_exam_for_pe\",\n",
    "    \"rv_lv_ratio_gte_1\",\n",
    "    \"rv_lv_ratio_lt_1\",\n",
    "    \"leftsided_pe\",\n",
    "    \"chronic_pe\",\n",
    "    \"rightsided_pe\",\n",
    "    \"acute_and_chronic_pe\",\n",
    "    \"central_pe\",\n",
    "    \"indeterminate\",\n",
    "]\n",
    "\n",
    "NUM_EXAM_TARGETS = len(EXAM_TARGETS)"
   ]
  },
  {
   "cell_type": "code",
   "execution_count": 6,
   "metadata": {
    "_cell_guid": "79c7e3d0-c299-4dcb-8224-4455121ee9b0",
    "_uuid": "d629ff2d2480ee46fbb7e2d37f6b5fab8052498a",
    "execution": {
     "iopub.execute_input": "2020-10-26T07:36:43.742785Z",
     "iopub.status.busy": "2020-10-26T07:36:43.742048Z",
     "iopub.status.idle": "2020-10-26T07:36:43.746655Z",
     "shell.execute_reply": "2020-10-26T07:36:43.746055Z"
    },
    "papermill": {
     "duration": 0.042903,
     "end_time": "2020-10-26T07:36:43.746773",
     "exception": false,
     "start_time": "2020-10-26T07:36:43.703870",
     "status": "completed"
    },
    "tags": []
   },
   "outputs": [],
   "source": [
    "DATA_PATH = \"../input/rsna-str-pulmonary-embolism-detection/\""
   ]
  },
  {
   "cell_type": "markdown",
   "metadata": {
    "papermill": {
     "duration": 0.029773,
     "end_time": "2020-10-26T07:36:43.810247",
     "exception": false,
     "start_time": "2020-10-26T07:36:43.780474",
     "status": "completed"
    },
    "tags": []
   },
   "source": [
    "## Dicom processing"
   ]
  },
  {
   "cell_type": "code",
   "execution_count": 7,
   "metadata": {
    "execution": {
     "iopub.execute_input": "2020-10-26T07:36:43.881550Z",
     "iopub.status.busy": "2020-10-26T07:36:43.880660Z",
     "iopub.status.idle": "2020-10-26T07:36:43.889641Z",
     "shell.execute_reply": "2020-10-26T07:36:43.889108Z"
    },
    "papermill": {
     "duration": 0.049222,
     "end_time": "2020-10-26T07:36:43.889745",
     "exception": false,
     "start_time": "2020-10-26T07:36:43.840523",
     "status": "completed"
    },
    "tags": []
   },
   "outputs": [],
   "source": [
    "def load_dicom(f):\n",
    "    dicom = pydicom.dcmread(f)\n",
    "    \n",
    "    M = float(dicom.RescaleSlope)\n",
    "    B = float(dicom.RescaleIntercept)\n",
    "    \n",
    "    z_pos = float(dicom.ImagePositionPatient[-1])\n",
    "    img = dicom.pixel_array * M + B\n",
    "    \n",
    "    return img, z_pos\n",
    "\n",
    "\n",
    "def window(img, WL=50, WW=350):\n",
    "    upper, lower = WL + WW // 2, WL - WW // 2\n",
    "    X = np.clip(img, lower, upper)\n",
    "    X = X - np.min(X)\n",
    "    X = X / np.max(X)\n",
    "    \n",
    "    X = (X * 255.0).astype('uint8')\n",
    "    \n",
    "    return X\n",
    "\n",
    "def dicom_to_img(path):\n",
    "    image, z_pos = load_dicom(path)\n",
    "\n",
    "    image_lung = window(image, WL=-600, WW=1500)[:, :, np.newaxis]\n",
    "    image_mediastinal = window(image, WL=40, WW=400)[:, :, np.newaxis]\n",
    "    image_pe_specific = window(image, WL=100, WW=700)[:, :, np.newaxis]\n",
    "    \n",
    "    image = np.concatenate([image_mediastinal, image_pe_specific, image_lung], axis=-1)\n",
    "    \n",
    "    rat = SIZE / np.max(image.shape[1:])\n",
    "    image = zoom(image, [rat, rat,1.], prefilter=False, order=1)\n",
    "    \n",
    "    return image, z_pos"
   ]
  },
  {
   "cell_type": "code",
   "execution_count": 8,
   "metadata": {
    "execution": {
     "iopub.execute_input": "2020-10-26T07:36:43.961322Z",
     "iopub.status.busy": "2020-10-26T07:36:43.960704Z",
     "iopub.status.idle": "2020-10-26T07:36:44.740693Z",
     "shell.execute_reply": "2020-10-26T07:36:44.740040Z"
    },
    "papermill": {
     "duration": 0.819153,
     "end_time": "2020-10-26T07:36:44.740829",
     "exception": false,
     "start_time": "2020-10-26T07:36:43.921676",
     "status": "completed"
    },
    "tags": []
   },
   "outputs": [],
   "source": [
    "import albumentations as albu \n",
    "from albumentations import pytorch as AT\n",
    "\n",
    "\n",
    "def normalizer(mean=MEAN, std=STD):\n",
    "    return albu.Compose([\n",
    "                albu.Normalize(mean=mean, std=std),\n",
    "                AT.transforms.ToTensor(),\n",
    "            ],\n",
    "            p=1,\n",
    "        )"
   ]
  },
  {
   "cell_type": "code",
   "execution_count": 9,
   "metadata": {
    "execution": {
     "iopub.execute_input": "2020-10-26T07:36:44.820187Z",
     "iopub.status.busy": "2020-10-26T07:36:44.819485Z",
     "iopub.status.idle": "2020-10-26T07:36:44.824437Z",
     "shell.execute_reply": "2020-10-26T07:36:44.823855Z"
    },
    "papermill": {
     "duration": 0.046528,
     "end_time": "2020-10-26T07:36:44.824555",
     "exception": false,
     "start_time": "2020-10-26T07:36:44.778027",
     "status": "completed"
    },
    "tags": []
   },
   "outputs": [],
   "source": [
    "def to_jpg(img, name='img'):\n",
    "    cv2.imwrite(name + \".jpg\", img)\n",
    "    return cv2.imread(name + \".jpg\")"
   ]
  },
  {
   "cell_type": "code",
   "execution_count": 10,
   "metadata": {
    "execution": {
     "iopub.execute_input": "2020-10-26T07:36:44.907556Z",
     "iopub.status.busy": "2020-10-26T07:36:44.906373Z",
     "iopub.status.idle": "2020-10-26T07:36:44.911121Z",
     "shell.execute_reply": "2020-10-26T07:36:44.911924Z"
    },
    "papermill": {
     "duration": 0.053244,
     "end_time": "2020-10-26T07:36:44.912118",
     "exception": false,
     "start_time": "2020-10-26T07:36:44.858874",
     "status": "completed"
    },
    "tags": []
   },
   "outputs": [],
   "source": [
    "class PatientDataset(Dataset):\n",
    "    \"\"\"\n",
    "    Dataset for feature extraction\n",
    "    \"\"\"\n",
    "    def __init__(self, df, path, transforms=None): \n",
    "        self.df = df\n",
    "        self.path = path\n",
    "        self.img_paths = [sop + '.dcm' for sop in df['SOPInstanceUID'].values]\n",
    "        \n",
    "        assert len(self.img_paths) == len(self.df)\n",
    "        \n",
    "        self.transforms = transforms\n",
    "\n",
    "    def __len__(self):\n",
    "        return len(self.img_paths)\n",
    "\n",
    "    def __getitem__(self, idx):\n",
    "        image, z = dicom_to_img(self.path + self.img_paths[idx])\n",
    "        image = to_jpg(image, name='tmp')\n",
    "        \n",
    "        if self.transforms:\n",
    "            image = self.transforms(image=image)[\"image\"]\n",
    "\n",
    "        return image, z\n"
   ]
  },
  {
   "cell_type": "markdown",
   "metadata": {
    "papermill": {
     "duration": 0.030105,
     "end_time": "2020-10-26T07:36:44.983186",
     "exception": false,
     "start_time": "2020-10-26T07:36:44.953081",
     "status": "completed"
    },
    "tags": []
   },
   "source": [
    "# Models"
   ]
  },
  {
   "cell_type": "markdown",
   "metadata": {
    "papermill": {
     "duration": 0.029743,
     "end_time": "2020-10-26T07:36:45.042675",
     "exception": false,
     "start_time": "2020-10-26T07:36:45.012932",
     "status": "completed"
    },
    "tags": []
   },
   "source": [
    "## Utils"
   ]
  },
  {
   "cell_type": "code",
   "execution_count": 11,
   "metadata": {
    "execution": {
     "iopub.execute_input": "2020-10-26T07:36:45.111878Z",
     "iopub.status.busy": "2020-10-26T07:36:45.111029Z",
     "iopub.status.idle": "2020-10-26T07:36:45.113920Z",
     "shell.execute_reply": "2020-10-26T07:36:45.113375Z"
    },
    "papermill": {
     "duration": 0.040402,
     "end_time": "2020-10-26T07:36:45.114033",
     "exception": false,
     "start_time": "2020-10-26T07:36:45.073631",
     "status": "completed"
    },
    "tags": []
   },
   "outputs": [],
   "source": [
    "def load_model_weights(model, filename, verbose=1, cp_folder=\"\"):\n",
    "    \"\"\"\n",
    "    Loads the weights of a PyTorch model. The exception handles cpu/gpu incompatibilities\n",
    "\n",
    "    Arguments:\n",
    "        model {torch module} -- Model to load the weights to\n",
    "        filename {str} -- Name of the checkpoint\n",
    "\n",
    "    Keyword Arguments:\n",
    "        verbose {int} -- Whether to display infos (default: {1})\n",
    "        cp_folder {str} -- Folder to load from (default: {''})\n",
    "\n",
    "    Returns:\n",
    "        torch module -- Model with loaded weights\n",
    "    \"\"\"\n",
    "    if verbose:\n",
    "        print(f\"\\n -> Loading weights from {os.path.join(cp_folder,filename)}\\n\")\n",
    "    try:\n",
    "        model.load_state_dict(os.path.join(cp_folder, filename), strict=False)\n",
    "    except BaseException:\n",
    "        model.load_state_dict(\n",
    "            torch.load(os.path.join(cp_folder, filename), map_location=\"cpu\"),\n",
    "            strict=True,\n",
    "        )\n",
    "    return model"
   ]
  },
  {
   "cell_type": "markdown",
   "metadata": {
    "papermill": {
     "duration": 0.031393,
     "end_time": "2020-10-26T07:36:45.175547",
     "exception": false,
     "start_time": "2020-10-26T07:36:45.144154",
     "status": "completed"
    },
    "tags": []
   },
   "source": [
    "## First level"
   ]
  },
  {
   "cell_type": "code",
   "execution_count": 12,
   "metadata": {
    "execution": {
     "iopub.execute_input": "2020-10-26T07:36:45.250049Z",
     "iopub.status.busy": "2020-10-26T07:36:45.249084Z",
     "iopub.status.idle": "2020-10-26T07:36:45.251559Z",
     "shell.execute_reply": "2020-10-26T07:36:45.252156Z"
    },
    "papermill": {
     "duration": 0.04616,
     "end_time": "2020-10-26T07:36:45.252275",
     "exception": false,
     "start_time": "2020-10-26T07:36:45.206115",
     "status": "completed"
    },
    "tags": []
   },
   "outputs": [],
   "source": [
    "import torch\n",
    "import torch.nn.functional as F\n",
    "\n",
    "\n",
    "def add_ft_extractor(resnet):\n",
    "    resnet.extract_ft = lambda x: forward_extract_ft(resnet, x)\n",
    "    \n",
    "\n",
    "def forward_extract_ft(self, x):\n",
    "    x = self.conv1(x)\n",
    "    x = self.bn1(x)\n",
    "    x = self.relu(x)\n",
    "    x = self.maxpool(x)\n",
    "\n",
    "    x = self.layer1(x)\n",
    "    x = self.layer2(x)\n",
    "    x = self.layer3(x)\n",
    "    x = self.layer4(x)\n",
    "\n",
    "    x = self.avgpool(x)\n",
    "    ft = torch.flatten(x, 1)\n",
    "\n",
    "    x = self.fc(ft)\n",
    "\n",
    "    return x.view(-1), ft\n",
    "\n",
    "\n",
    "def add_ft_extractor_enet(effnet):\n",
    "    effnet.forward = lambda x: forward_extract_ft_enet(effnet, x)\n",
    "    \n",
    "\n",
    "def forward_extract_ft_enet(self, x):\n",
    "    x = self.extract_features(x)\n",
    "\n",
    "    x = self._avg_pooling(x)\n",
    "\n",
    "    ft = x.flatten(start_dim=1)\n",
    "    x = self._dropout(ft)\n",
    "    x = self._fc(x)\n",
    "\n",
    "    return x.view(-1), ft"
   ]
  },
  {
   "cell_type": "code",
   "execution_count": 13,
   "metadata": {
    "execution": {
     "iopub.execute_input": "2020-10-26T07:36:45.324562Z",
     "iopub.status.busy": "2020-10-26T07:36:45.323764Z",
     "iopub.status.idle": "2020-10-26T07:36:45.360927Z",
     "shell.execute_reply": "2020-10-26T07:36:45.360415Z"
    },
    "papermill": {
     "duration": 0.077395,
     "end_time": "2020-10-26T07:36:45.361057",
     "exception": false,
     "start_time": "2020-10-26T07:36:45.283662",
     "status": "completed"
    },
    "tags": []
   },
   "outputs": [],
   "source": [
    "import torch\n",
    "import torch.nn as nn\n",
    "from torchvision.models import *\n",
    "from efficientnet_pytorch import EfficientNet\n",
    "\n",
    "\n",
    "def define_model(name, num_classes=1):\n",
    "    if \"resnext\" in name:\n",
    "        model = resnext50_32x4d(pretrained=False)\n",
    "        model.nb_ft = model.fc.in_features\n",
    "        model.fc = nn.Linear(model.nb_ft, num_classes)\n",
    "        add_ft_extractor(model)\n",
    "    else:\n",
    "        model = EfficientNet.from_name(name)\n",
    "        model.nb_ft = model._fc.in_features\n",
    "        model._fc = nn.Linear(model.nb_ft, num_classes)\n",
    "        add_ft_extractor_enet(model)\n",
    "    \n",
    "    return model\n"
   ]
  },
  {
   "cell_type": "markdown",
   "metadata": {
    "papermill": {
     "duration": 0.030285,
     "end_time": "2020-10-26T07:36:45.422193",
     "exception": false,
     "start_time": "2020-10-26T07:36:45.391908",
     "status": "completed"
    },
    "tags": []
   },
   "source": [
    "## 2nd level"
   ]
  },
  {
   "cell_type": "code",
   "execution_count": 14,
   "metadata": {
    "execution": {
     "iopub.execute_input": "2020-10-26T07:36:45.489009Z",
     "iopub.status.busy": "2020-10-26T07:36:45.488149Z",
     "iopub.status.idle": "2020-10-26T07:36:45.506994Z",
     "shell.execute_reply": "2020-10-26T07:36:45.507523Z"
    },
    "papermill": {
     "duration": 0.054977,
     "end_time": "2020-10-26T07:36:45.507636",
     "exception": false,
     "start_time": "2020-10-26T07:36:45.452659",
     "status": "completed"
    },
    "tags": []
   },
   "outputs": [],
   "source": [
    "class RNNModel(nn.Module):\n",
    "    def __init__(self, ft_dim=2048, lstm_dim=64, dense_dim=256, use_msd=False, num_classes=9):\n",
    "        super().__init__()\n",
    "        self.use_msd = use_msd\n",
    "        \n",
    "        self.mlp = nn.Sequential(\n",
    "            nn.Linear(ft_dim, dense_dim * 2),\n",
    "            nn.ReLU(),\n",
    "            nn.Linear(dense_dim * 2, dense_dim),\n",
    "            nn.ReLU(),\n",
    "        )\n",
    "\n",
    "        self.lstm = nn.LSTM(dense_dim, lstm_dim, batch_first=True, bidirectional=True)\n",
    "        \n",
    "        self.logits_exam = nn.Sequential(\n",
    "            nn.Linear(lstm_dim * 4 + dense_dim * 2, lstm_dim),\n",
    "            nn.ReLU(),\n",
    "            nn.Linear(lstm_dim, num_classes),\n",
    "        )\n",
    "        \n",
    "        self.logits_img = nn.Sequential(\n",
    "            nn.Linear(lstm_dim *  2 + dense_dim, lstm_dim),\n",
    "            nn.ReLU(),\n",
    "            nn.Linear(lstm_dim, 1),\n",
    "        )\n",
    "        \n",
    "        self.high_dropout = nn.Dropout(p=0.5)\n",
    "    \n",
    "    def forward(self, x):\n",
    "        features = self.mlp(x)\n",
    "        features2, _ = self.lstm(features)\n",
    "        \n",
    "        features = torch.cat([features, features2], -1)\n",
    "        \n",
    "        mean = features.mean(1)\n",
    "        max_, _ = features.max(1)\n",
    "        pooled = torch.cat([mean, max_], -1)\n",
    "        \n",
    "        if self.use_msd and self.training:\n",
    "            logits_exam = torch.mean(\n",
    "                torch.stack(\n",
    "                    [self.logits_exam(self.high_dropout(pooled)) for _ in range(5)],\n",
    "                    dim=0,\n",
    "                    ),\n",
    "                dim=0,\n",
    "            )\n",
    "            \n",
    "            logits_img = torch.mean(\n",
    "                torch.stack(\n",
    "                    [self.logits_img(self.high_dropout(features)) for _ in range(5)],\n",
    "                    dim=0,\n",
    "                    ),\n",
    "                dim=0,\n",
    "            )\n",
    "        else:\n",
    "            logits_exam = self.logits_exam(pooled)\n",
    "            logits_img = self.logits_img(features)\n",
    "\n",
    "        return logits_exam, logits_img.squeeze(-1)"
   ]
  },
  {
   "cell_type": "markdown",
   "metadata": {
    "papermill": {
     "duration": 0.032665,
     "end_time": "2020-10-26T07:36:45.571082",
     "exception": false,
     "start_time": "2020-10-26T07:36:45.538417",
     "status": "completed"
    },
    "tags": []
   },
   "source": [
    "## Ensure rules verification"
   ]
  },
  {
   "cell_type": "code",
   "execution_count": 15,
   "metadata": {
    "execution": {
     "iopub.execute_input": "2020-10-26T07:36:45.651071Z",
     "iopub.status.busy": "2020-10-26T07:36:45.646852Z",
     "iopub.status.idle": "2020-10-26T07:36:45.654087Z",
     "shell.execute_reply": "2020-10-26T07:36:45.653491Z"
    },
    "papermill": {
     "duration": 0.051325,
     "end_time": "2020-10-26T07:36:45.654210",
     "exception": false,
     "start_time": "2020-10-26T07:36:45.602885",
     "status": "completed"
    },
    "tags": []
   },
   "outputs": [],
   "source": [
    "def post_process(exam_pred, image_pred, eps=1e-6):\n",
    "    has_pe_image = image_pred.max() > 0.5\n",
    "\n",
    "    (negative_exam_for_pe, rv_lv_ratio_gte_1, rv_lv_ratio_lt_1, leftsided_pe, \n",
    "     chronic_pe, rightsided_pe, acute_and_chronic_pe, central_pe, indeterminate) = exam_pred\n",
    "    \n",
    "    broken = False\n",
    "    \n",
    "    if has_pe_image:  # \n",
    "        if rv_lv_ratio_gte_1 < 0.5 and rv_lv_ratio_lt_1 < 0.5:  # this means image has no PE\n",
    "            broken = True\n",
    "            \n",
    "        max_ = np.max([leftsided_pe, rightsided_pe, central_pe])  # this means image has no PE\n",
    "        if max_ < 0.5:\n",
    "            broken = True\n",
    "            \n",
    "    if not broken and has_pe_image:\n",
    "        if rv_lv_ratio_gte_1 > 0.5 and rv_lv_ratio_lt_1 > 0.5:\n",
    "            if rv_lv_ratio_gte_1 > rv_lv_ratio_lt_1:\n",
    "                rv_lv_ratio_lt_1 = 0.5 - eps\n",
    "            else:\n",
    "                rv_lv_ratio_gte_1 = 0.5 - eps\n",
    "        \n",
    "        min_ = np.min([chronic_pe, acute_and_chronic_pe])  # almost never occurs\n",
    "        if min_ > 0.5:\n",
    "            if chronic_pe > acute_and_chronic_pe:\n",
    "                acute_and_chronic_pe = 0.5 - eps\n",
    "            else:\n",
    "                chronic_pe = 0.5 - eps\n",
    "        \n",
    "    if broken:\n",
    "        image_pred = np.clip(image_pred, 0, 0.5 - eps)\n",
    "        assert image_pred.max() < 0.5\n",
    "        \n",
    "    has_pe_image = image_pred.max() > 0.5\n",
    "    \n",
    "    if not has_pe_image:   \n",
    "        if indeterminate > 0.5 and negative_exam_for_pe > 0.5:\n",
    "            if indeterminate > negative_exam_for_pe:\n",
    "                negative_exam_for_pe = 0.5 - eps\n",
    "            else:\n",
    "                indeterminate = 0.5 - eps\n",
    "        elif indeterminate < 0.5 and negative_exam_for_pe < 0.5:\n",
    "            if indeterminate > negative_exam_for_pe:\n",
    "                indeterminate = 0.5 + eps\n",
    "            else:\n",
    "                negative_exam_for_pe = 0.5 + eps\n",
    "        \n",
    "        (rv_lv_ratio_gte_1, rv_lv_ratio_lt_1, leftsided_pe, \n",
    "         chronic_pe, rightsided_pe, acute_and_chronic_pe, central_pe) = np.clip(\n",
    "            exam_pred[[1, 2, 3, 4, 5, 6, 7]],\n",
    "            0, \n",
    "            0.5 - eps\n",
    "        )\n",
    "        \n",
    "    return np.array([\n",
    "        negative_exam_for_pe,\n",
    "        rv_lv_ratio_gte_1, \n",
    "        rv_lv_ratio_lt_1, \n",
    "        leftsided_pe, \n",
    "        chronic_pe,\n",
    "        rightsided_pe,\n",
    "        acute_and_chronic_pe,\n",
    "        central_pe,\n",
    "        indeterminate, \n",
    "    ]), image_pred"
   ]
  },
  {
   "cell_type": "code",
   "execution_count": 16,
   "metadata": {
    "execution": {
     "iopub.execute_input": "2020-10-26T07:36:45.752532Z",
     "iopub.status.busy": "2020-10-26T07:36:45.737045Z",
     "iopub.status.idle": "2020-10-26T07:36:45.755299Z",
     "shell.execute_reply": "2020-10-26T07:36:45.754725Z"
    },
    "papermill": {
     "duration": 0.065903,
     "end_time": "2020-10-26T07:36:45.755405",
     "exception": false,
     "start_time": "2020-10-26T07:36:45.689502",
     "status": "completed"
    },
    "tags": []
   },
   "outputs": [],
   "source": [
    "def check_consistency(sub, test):\n",
    "    \n",
    "    '''\n",
    "    Checks label consistency and returns the errors\n",
    "    \n",
    "    Args:\n",
    "    sub   = submission dataframe (pandas)\n",
    "    test  = test.csv dataframe (pandas)\n",
    "    '''\n",
    "    \n",
    "    # EXAM LEVEL\n",
    "    for i in test['StudyInstanceUID'].unique():\n",
    "        df_tmp = sub.loc[sub.id.str.contains(i, regex = False)].reset_index(drop = True)\n",
    "        df_tmp['StudyInstanceUID'] = df_tmp['id'].str.split('_').str[0]\n",
    "        df_tmp['label_type']       = df_tmp['id'].str.split('_').str[1:].apply(lambda x: '_'.join(x))\n",
    "        del df_tmp['id']\n",
    "        if i == test['StudyInstanceUID'].unique()[0]:\n",
    "            df = df_tmp.copy()\n",
    "        else:\n",
    "            df = pd.concat([df, df_tmp], axis = 0)\n",
    "    df_exam = df.pivot(index = 'StudyInstanceUID', columns = 'label_type', values = 'label')\n",
    "    \n",
    "    # IMAGE LEVEL\n",
    "    df_image = sub.loc[sub.id.isin(test.SOPInstanceUID)].reset_index(drop = True)\n",
    "    df_image = df_image.merge(test, how = 'left', left_on = 'id', right_on = 'SOPInstanceUID')\n",
    "    df_image.rename(columns = {\"label\": \"pe_present_on_image\"}, inplace = True)\n",
    "    del df_image['id']\n",
    "    \n",
    "    # MERGER\n",
    "    df = df_exam.merge(df_image, how = 'left', on = 'StudyInstanceUID')\n",
    "    ids    = ['StudyInstanceUID', 'SeriesInstanceUID', 'SOPInstanceUID']\n",
    "    labels = [c for c in df.columns if c not in ids]\n",
    "    df = df[ids + labels]\n",
    "    \n",
    "    # SPLIT NEGATIVE AND POSITIVE EXAMS\n",
    "    df['positive_images_in_exam'] = df['StudyInstanceUID'].map(df.groupby(['StudyInstanceUID']).pe_present_on_image.max())\n",
    "    df_pos = df.loc[df.positive_images_in_exam >  0.5]\n",
    "    df_neg = df.loc[df.positive_images_in_exam <= 0.5]\n",
    "    \n",
    "    # CHECKING CONSISTENCY OF POSITIVE EXAM LABELS\n",
    "    rule1a = df_pos.loc[((df_pos.rv_lv_ratio_lt_1  >  0.5)  & \n",
    "                         (df_pos.rv_lv_ratio_gte_1 >  0.5)) | \n",
    "                        ((df_pos.rv_lv_ratio_lt_1  <= 0.5)  & \n",
    "                         (df_pos.rv_lv_ratio_gte_1 <= 0.5))].reset_index(drop = True)\n",
    "    rule1a['broken_rule'] = '1a'\n",
    "    rule1b = df_pos.loc[(df_pos.central_pe    <= 0.5) & \n",
    "                        (df_pos.rightsided_pe <= 0.5) & \n",
    "                        (df_pos.leftsided_pe  <= 0.5)].reset_index(drop = True)\n",
    "    rule1b['broken_rule'] = '1b'\n",
    "    rule1c = df_pos.loc[(df_pos.acute_and_chronic_pe > 0.5) & \n",
    "                        (df_pos.chronic_pe           > 0.5)].reset_index(drop = True)\n",
    "    rule1c['broken_rule'] = '1c'\n",
    "    rule1d = df_pos.loc[(df_pos.indeterminate        > 0.5) | \n",
    "                        (df_pos.negative_exam_for_pe > 0.5)].reset_index(drop = True)\n",
    "    rule1d['broken_rule'] = '1d'\n",
    "\n",
    "    # CHECKING CONSISTENCY OF NEGATIVE EXAM LABELS\n",
    "    rule2a = df_neg.loc[((df_neg.indeterminate        >  0.5)  & \n",
    "                         (df_neg.negative_exam_for_pe >  0.5)) | \n",
    "                        ((df_neg.indeterminate        <= 0.5)  & \n",
    "                         (df_neg.negative_exam_for_pe <= 0.5))].reset_index(drop = True)\n",
    "    rule2a['broken_rule'] = '2a'\n",
    "    rule2b = df_neg.loc[(df_neg.rv_lv_ratio_lt_1     > 0.5) | \n",
    "                        (df_neg.rv_lv_ratio_gte_1    > 0.5) |\n",
    "                        (df_neg.central_pe           > 0.5) | \n",
    "                        (df_neg.rightsided_pe        > 0.5) | \n",
    "                        (df_neg.leftsided_pe         > 0.5) |\n",
    "                        (df_neg.acute_and_chronic_pe > 0.5) | \n",
    "                        (df_neg.chronic_pe           > 0.5)].reset_index(drop = True)\n",
    "    rule2b['broken_rule'] = '2b'\n",
    "    \n",
    "    # MERGING INCONSISTENT PREDICTIONS\n",
    "    errors = pd.concat([rule1a, rule1b, rule1c, rule1d, rule2a, rule2b], axis = 0)\n",
    "    \n",
    "    # OUTPUT\n",
    "    print('Found', len(errors), 'inconsistent predictions')\n",
    "    return errors"
   ]
  },
  {
   "cell_type": "markdown",
   "metadata": {
    "papermill": {
     "duration": 0.031229,
     "end_time": "2020-10-26T07:36:45.820136",
     "exception": false,
     "start_time": "2020-10-26T07:36:45.788907",
     "status": "completed"
    },
    "tags": []
   },
   "source": [
    "# Inference"
   ]
  },
  {
   "cell_type": "code",
   "execution_count": 17,
   "metadata": {
    "execution": {
     "iopub.execute_input": "2020-10-26T07:36:45.897804Z",
     "iopub.status.busy": "2020-10-26T07:36:45.892665Z",
     "iopub.status.idle": "2020-10-26T07:36:45.900294Z",
     "shell.execute_reply": "2020-10-26T07:36:45.900791Z"
    },
    "papermill": {
     "duration": 0.047865,
     "end_time": "2020-10-26T07:36:45.900903",
     "exception": false,
     "start_time": "2020-10-26T07:36:45.853038",
     "status": "completed"
    },
    "tags": []
   },
   "outputs": [],
   "source": [
    "from torch.utils.data import DataLoader\n",
    "\n",
    "def extract_features(models, dataset, batch_size=32):\n",
    "    fts = np.empty((0, models[0].nb_ft))\n",
    "    zs = np.empty(0)\n",
    "    preds = np.empty(0)\n",
    "\n",
    "    loader = DataLoader(\n",
    "        dataset, \n",
    "        batch_size=batch_size, \n",
    "        shuffle=False, \n",
    "        num_workers=1,\n",
    "        drop_last=False,\n",
    "        pin_memory=True\n",
    "    )\n",
    "    \n",
    "    with torch.no_grad():\n",
    "        for x, z in loader:\n",
    "            fts_tmp = []\n",
    "            preds_tmp = []\n",
    "            for model in models:\n",
    "                pred, ft = model(x.cuda())\n",
    "                preds_tmp.append(torch.sigmoid(pred).detach().cpu().numpy())\n",
    "                fts_tmp.append(ft.detach().cpu().numpy())\n",
    "                \n",
    "            preds = np.concatenate([preds, np.mean(preds_tmp, 0)])\n",
    "            fts = np.concatenate([fts, np.mean(fts_tmp, 0)])\n",
    "            zs = np.concatenate([zs, z.numpy()])\n",
    "\n",
    "    order = np.argsort(zs)\n",
    "    fts = fts[order]\n",
    "    preds = preds[order]\n",
    "    \n",
    "    return preds, fts, order"
   ]
  },
  {
   "cell_type": "code",
   "execution_count": 18,
   "metadata": {
    "execution": {
     "iopub.execute_input": "2020-10-26T07:36:45.970940Z",
     "iopub.status.busy": "2020-10-26T07:36:45.970147Z",
     "iopub.status.idle": "2020-10-26T07:36:45.973151Z",
     "shell.execute_reply": "2020-10-26T07:36:45.972611Z"
    },
    "papermill": {
     "duration": 0.041263,
     "end_time": "2020-10-26T07:36:45.973255",
     "exception": false,
     "start_time": "2020-10-26T07:36:45.931992",
     "status": "completed"
    },
    "tags": []
   },
   "outputs": [],
   "source": [
    "def inference_second_lvl(model, ft):\n",
    "    with torch.no_grad():\n",
    "        x = torch.from_numpy(ft).unsqueeze(0).cuda().float()\n",
    "        logits_exam, logits_img = model(x)\n",
    "        \n",
    "        pred_exam = torch.sigmoid(logits_exam).detach().cpu().squeeze().numpy()\n",
    "        pred_img = torch.sigmoid(logits_img).detach().cpu().squeeze().numpy()\n",
    "        \n",
    "    return pred_exam, pred_img"
   ]
  },
  {
   "cell_type": "code",
   "execution_count": 19,
   "metadata": {
    "execution": {
     "iopub.execute_input": "2020-10-26T07:36:46.045211Z",
     "iopub.status.busy": "2020-10-26T07:36:46.044373Z",
     "iopub.status.idle": "2020-10-26T07:36:46.047061Z",
     "shell.execute_reply": "2020-10-26T07:36:46.046597Z"
    },
    "papermill": {
     "duration": 0.042647,
     "end_time": "2020-10-26T07:36:46.047157",
     "exception": false,
     "start_time": "2020-10-26T07:36:46.004510",
     "status": "completed"
    },
    "tags": []
   },
   "outputs": [],
   "source": [
    "def pred_to_sub(unique_df, df, pred_exams, pred_imgs, orders):\n",
    "    df_dic = {}\n",
    "    for i, study in enumerate(unique_df['StudyInstanceUID'].values):\n",
    "        reverse_order = np.argsort(orders[i])\n",
    "        for t, target in enumerate(EXAM_TARGETS):\n",
    "            name = f'{study}_{target}'\n",
    "            label = pred_exams[i][t]\n",
    "            df_dic[name] = label\n",
    "        \n",
    "        df_patient = df[df['StudyInstanceUID'] == study]\n",
    "        for s, sop in enumerate(df_patient['SOPInstanceUID'].values):\n",
    "            df_dic[sop] = pred_imgs[i][reverse_order[s]]\n",
    "    \n",
    "    sub = pd.DataFrame.from_dict(df_dic, orient='index', columns=['label']).reset_index()\n",
    "    return sub.rename({'index': 'id'}, axis=1)"
   ]
  },
  {
   "cell_type": "markdown",
   "metadata": {
    "papermill": {
     "duration": 0.03271,
     "end_time": "2020-10-26T07:36:46.112135",
     "exception": false,
     "start_time": "2020-10-26T07:36:46.079425",
     "status": "completed"
    },
    "tags": []
   },
   "source": [
    "# Main"
   ]
  },
  {
   "cell_type": "markdown",
   "metadata": {
    "papermill": {
     "duration": 0.032073,
     "end_time": "2020-10-26T07:36:46.175759",
     "exception": false,
     "start_time": "2020-10-26T07:36:46.143686",
     "status": "completed"
    },
    "tags": []
   },
   "source": [
    "## Paths"
   ]
  },
  {
   "cell_type": "code",
   "execution_count": 20,
   "metadata": {
    "execution": {
     "iopub.execute_input": "2020-10-26T07:36:46.246199Z",
     "iopub.status.busy": "2020-10-26T07:36:46.245117Z",
     "iopub.status.idle": "2020-10-26T07:36:46.399237Z",
     "shell.execute_reply": "2020-10-26T07:36:46.398304Z"
    },
    "papermill": {
     "duration": 0.191605,
     "end_time": "2020-10-26T07:36:46.399358",
     "exception": false,
     "start_time": "2020-10-26T07:36:46.207753",
     "status": "completed"
    },
    "tags": []
   },
   "outputs": [],
   "source": [
    "df_test = pd.read_csv(DATA_PATH + \"test.csv\")"
   ]
  },
  {
   "cell_type": "code",
   "execution_count": 21,
   "metadata": {
    "execution": {
     "iopub.execute_input": "2020-10-26T07:36:46.476570Z",
     "iopub.status.busy": "2020-10-26T07:36:46.475938Z",
     "iopub.status.idle": "2020-10-26T07:36:46.980530Z",
     "shell.execute_reply": "2020-10-26T07:36:46.981946Z"
    },
    "papermill": {
     "duration": 0.550379,
     "end_time": "2020-10-26T07:36:46.982143",
     "exception": false,
     "start_time": "2020-10-26T07:36:46.431764",
     "status": "completed"
    },
    "tags": []
   },
   "outputs": [],
   "source": [
    "paths_test = [DATA_PATH + f\"test/{study}/{series}/\" for study, series in df_test[['StudyInstanceUID', 'SeriesInstanceUID']].values]\n",
    "df_test['path'] = paths_test"
   ]
  },
  {
   "cell_type": "code",
   "execution_count": 22,
   "metadata": {
    "execution": {
     "iopub.execute_input": "2020-10-26T07:36:47.101495Z",
     "iopub.status.busy": "2020-10-26T07:36:47.100643Z",
     "iopub.status.idle": "2020-10-26T07:36:47.345068Z",
     "shell.execute_reply": "2020-10-26T07:36:47.346481Z"
    },
    "papermill": {
     "duration": 0.313315,
     "end_time": "2020-10-26T07:36:47.346679",
     "exception": false,
     "start_time": "2020-10-26T07:36:47.033364",
     "status": "completed"
    },
    "tags": []
   },
   "outputs": [],
   "source": [
    "unique_df_test = df_test[['path', 'StudyInstanceUID', 'SeriesInstanceUID']].drop_duplicates().reset_index(drop=True)"
   ]
  },
  {
   "cell_type": "markdown",
   "metadata": {
    "papermill": {
     "duration": 0.052597,
     "end_time": "2020-10-26T07:36:47.506331",
     "exception": false,
     "start_time": "2020-10-26T07:36:47.453734",
     "status": "completed"
    },
    "tags": []
   },
   "source": [
    "## Pretrained models"
   ]
  },
  {
   "cell_type": "code",
   "execution_count": 23,
   "metadata": {
    "execution": {
     "iopub.execute_input": "2020-10-26T07:36:47.616493Z",
     "iopub.status.busy": "2020-10-26T07:36:47.614124Z",
     "iopub.status.idle": "2020-10-26T07:36:47.618316Z",
     "shell.execute_reply": "2020-10-26T07:36:47.617444Z"
    },
    "papermill": {
     "duration": 0.0638,
     "end_time": "2020-10-26T07:36:47.618469",
     "exception": false,
     "start_time": "2020-10-26T07:36:47.554669",
     "status": "completed"
    },
    "tags": []
   },
   "outputs": [],
   "source": [
    "CP_PATH = \"../input/peweights/\""
   ]
  },
  {
   "cell_type": "code",
   "execution_count": 24,
   "metadata": {
    "execution": {
     "iopub.execute_input": "2020-10-26T07:36:47.745760Z",
     "iopub.status.busy": "2020-10-26T07:36:47.744468Z",
     "iopub.status.idle": "2020-10-26T07:36:47.750031Z",
     "shell.execute_reply": "2020-10-26T07:36:47.750785Z"
    },
    "papermill": {
     "duration": 0.072278,
     "end_time": "2020-10-26T07:36:47.750977",
     "exception": false,
     "start_time": "2020-10-26T07:36:47.678699",
     "status": "completed"
    },
    "tags": []
   },
   "outputs": [],
   "source": [
    "efficientnets = [f\"efficientnet-b3__{i}.pt\" for i in range(5)]\n",
    "\n",
    "rnns_1 = [f'rnn_2_{i}.pt' for i in range(5)]\n",
    "rnns_2 = [f'rnn_3_{i}.pt' for i in range(5)]"
   ]
  },
  {
   "cell_type": "code",
   "execution_count": 25,
   "metadata": {
    "execution": {
     "iopub.execute_input": "2020-10-26T07:36:47.867583Z",
     "iopub.status.busy": "2020-10-26T07:36:47.866621Z",
     "iopub.status.idle": "2020-10-26T07:36:57.537828Z",
     "shell.execute_reply": "2020-10-26T07:36:57.538388Z"
    },
    "papermill": {
     "duration": 9.731015,
     "end_time": "2020-10-26T07:36:57.538570",
     "exception": false,
     "start_time": "2020-10-26T07:36:47.807555",
     "status": "completed"
    },
    "tags": []
   },
   "outputs": [
    {
     "name": "stdout",
     "output_type": "stream",
     "text": [
      "\n",
      " -> Loading weights from ../input/peweights/efficientnet-b3__0.pt\n",
      "\n",
      "\n",
      " -> Loading weights from ../input/peweights/efficientnet-b3__1.pt\n",
      "\n",
      "\n",
      " -> Loading weights from ../input/peweights/efficientnet-b3__2.pt\n",
      "\n",
      "\n",
      " -> Loading weights from ../input/peweights/efficientnet-b3__3.pt\n",
      "\n",
      "\n",
      " -> Loading weights from ../input/peweights/efficientnet-b3__4.pt\n",
      "\n"
     ]
    }
   ],
   "source": [
    "first_lvl_models = []\n",
    "    \n",
    "for weights in efficientnets:\n",
    "    model = define_model('efficientnet-b3').cuda().eval()\n",
    "    model = load_model_weights(model, CP_PATH + weights)\n",
    "    first_lvl_models.append(model)"
   ]
  },
  {
   "cell_type": "code",
   "execution_count": 26,
   "metadata": {
    "execution": {
     "iopub.execute_input": "2020-10-26T07:36:57.616710Z",
     "iopub.status.busy": "2020-10-26T07:36:57.615915Z",
     "iopub.status.idle": "2020-10-26T07:36:58.696151Z",
     "shell.execute_reply": "2020-10-26T07:36:58.697206Z"
    },
    "papermill": {
     "duration": 1.121977,
     "end_time": "2020-10-26T07:36:58.697448",
     "exception": false,
     "start_time": "2020-10-26T07:36:57.575471",
     "status": "completed"
    },
    "tags": []
   },
   "outputs": [
    {
     "name": "stdout",
     "output_type": "stream",
     "text": [
      "\n",
      " -> Loading weights from ../input/peweights/rnn_2_0.pt\n",
      "\n",
      "\n",
      " -> Loading weights from ../input/peweights/rnn_2_1.pt\n",
      "\n",
      "\n",
      " -> Loading weights from ../input/peweights/rnn_2_2.pt\n",
      "\n",
      "\n",
      " -> Loading weights from ../input/peweights/rnn_2_3.pt\n",
      "\n",
      "\n",
      " -> Loading weights from ../input/peweights/rnn_2_4.pt\n",
      "\n"
     ]
    }
   ],
   "source": [
    "second_lvl_models = []\n",
    "\n",
    "for weights in rnns_1:\n",
    "    model = RNNModel(\n",
    "        ft_dim=1536, \n",
    "        lstm_dim=64,\n",
    "        use_msd=True,\n",
    "    ).cuda().eval()\n",
    "    \n",
    "    model = load_model_weights(model, CP_PATH + weights)\n",
    "    second_lvl_models.append(model)\n",
    "    \n",
    "# for weights in rnns_2:\n",
    "#     model = RNNModel(\n",
    "#         ft_dim=1536, \n",
    "#         lstm_dim=256,\n",
    "#         use_msd=True,\n",
    "#     ).cuda().eval()\n",
    "    \n",
    "#     model = load_model_weights(model, CP_PATH + weights)\n",
    "#     second_lvl_models.append(model)"
   ]
  },
  {
   "cell_type": "markdown",
   "metadata": {
    "papermill": {
     "duration": 0.050178,
     "end_time": "2020-10-26T07:36:58.805349",
     "exception": false,
     "start_time": "2020-10-26T07:36:58.755171",
     "status": "completed"
    },
    "tags": []
   },
   "source": [
    "## Inference"
   ]
  },
  {
   "cell_type": "code",
   "execution_count": 27,
   "metadata": {
    "execution": {
     "iopub.execute_input": "2020-10-26T07:36:58.917873Z",
     "iopub.status.busy": "2020-10-26T07:36:58.917127Z",
     "iopub.status.idle": "2020-10-26T07:36:58.921431Z",
     "shell.execute_reply": "2020-10-26T07:36:58.920894Z"
    },
    "papermill": {
     "duration": 0.065806,
     "end_time": "2020-10-26T07:36:58.921541",
     "exception": false,
     "start_time": "2020-10-26T07:36:58.855735",
     "status": "completed"
    },
    "tags": []
   },
   "outputs": [],
   "source": [
    "IS_PUBLIC = len(unique_df_test) <= 650\n",
    "DO_PUBLIC = True\n",
    "DO_PRIVATE = True\n",
    "\n",
    "DO_INFERENCE = (IS_PUBLIC and DO_PUBLIC) or (not IS_PUBLIC and DO_PRIVATE)"
   ]
  },
  {
   "cell_type": "code",
   "execution_count": 28,
   "metadata": {
    "execution": {
     "iopub.execute_input": "2020-10-26T07:36:59.025274Z",
     "iopub.status.busy": "2020-10-26T07:36:59.003592Z",
     "iopub.status.idle": "2020-10-26T09:53:28.728710Z",
     "shell.execute_reply": "2020-10-26T09:53:28.728059Z"
    },
    "papermill": {
     "duration": 8189.771881,
     "end_time": "2020-10-26T09:53:28.728848",
     "exception": false,
     "start_time": "2020-10-26T07:36:58.956967",
     "status": "completed"
    },
    "tags": []
   },
   "outputs": [
    {
     "data": {
      "application/vnd.jupyter.widget-view+json": {
       "model_id": "862c34acd1c64fb9b4f94da23b9de8d7",
       "version_major": 2,
       "version_minor": 0
      },
      "text/plain": [
       "HBox(children=(FloatProgress(value=0.0, max=650.0), HTML(value='')))"
      ]
     },
     "metadata": {},
     "output_type": "display_data"
    },
    {
     "name": "stdout",
     "output_type": "stream",
     "text": [
      "\n"
     ]
    }
   ],
   "source": [
    "if DO_INFERENCE:\n",
    "    all_pred_exams = []\n",
    "    all_pred_imgs = []\n",
    "    orders = []\n",
    "\n",
    "    for path, study, series in tqdm(unique_df_test.values):\n",
    "        df_patient = df_test[df_test['StudyInstanceUID'] == study].reset_index(drop=True)\n",
    "\n",
    "        dataset = PatientDataset(df_patient, path, normalizer())\n",
    "\n",
    "#         print('First level inference. \\n')\n",
    "\n",
    "        preds_1, fts, order = extract_features(first_lvl_models, dataset, batch_size=16)\n",
    "        orders.append(order)\n",
    "\n",
    "#         print('Second level inference. \\n')\n",
    "\n",
    "        pred_exams = []\n",
    "        pred_imgs = []\n",
    "        for model in second_lvl_models:\n",
    "            pred_exam, pred_img = inference_second_lvl(model, fts)\n",
    "            pred_exams.append(pred_exam)\n",
    "            pred_imgs.append(pred_img)\n",
    "\n",
    "        pred_exams = np.mean(pred_exams, 0)\n",
    "        pred_imgs = np.mean(pred_imgs, 0)\n",
    "        \n",
    "        pred_exams, pred_imgs = post_process(pred_exams, pred_imgs, eps=1e-6)\n",
    "\n",
    "        all_pred_exams.append(pred_exams)\n",
    "        all_pred_imgs.append(pred_imgs)\n",
    "        \n",
    "    sub = pred_to_sub(unique_df_test, df_test, all_pred_exams, all_pred_imgs, orders)\n",
    "else:\n",
    "    sub = pd.read_csv(DATA_PATH + \"sample_submission.csv\")"
   ]
  },
  {
   "cell_type": "code",
   "execution_count": 29,
   "metadata": {
    "execution": {
     "iopub.execute_input": "2020-10-26T09:53:28.825431Z",
     "iopub.status.busy": "2020-10-26T09:53:28.824552Z",
     "iopub.status.idle": "2020-10-26T09:54:23.438051Z",
     "shell.execute_reply": "2020-10-26T09:54:23.437415Z"
    },
    "papermill": {
     "duration": 54.668627,
     "end_time": "2020-10-26T09:54:23.438177",
     "exception": false,
     "start_time": "2020-10-26T09:53:28.769550",
     "status": "completed"
    },
    "tags": []
   },
   "outputs": [
    {
     "name": "stdout",
     "output_type": "stream",
     "text": [
      "Found 0 inconsistent predictions\n"
     ]
    },
    {
     "data": {
      "text/html": [
       "<div>\n",
       "<style scoped>\n",
       "    .dataframe tbody tr th:only-of-type {\n",
       "        vertical-align: middle;\n",
       "    }\n",
       "\n",
       "    .dataframe tbody tr th {\n",
       "        vertical-align: top;\n",
       "    }\n",
       "\n",
       "    .dataframe thead th {\n",
       "        text-align: right;\n",
       "    }\n",
       "</style>\n",
       "<table border=\"1\" class=\"dataframe\">\n",
       "  <thead>\n",
       "    <tr style=\"text-align: right;\">\n",
       "      <th></th>\n",
       "      <th>StudyInstanceUID</th>\n",
       "      <th>SeriesInstanceUID</th>\n",
       "      <th>SOPInstanceUID</th>\n",
       "      <th>acute_and_chronic_pe</th>\n",
       "      <th>central_pe</th>\n",
       "      <th>chronic_pe</th>\n",
       "      <th>indeterminate</th>\n",
       "      <th>leftsided_pe</th>\n",
       "      <th>negative_exam_for_pe</th>\n",
       "      <th>rightsided_pe</th>\n",
       "      <th>rv_lv_ratio_gte_1</th>\n",
       "      <th>rv_lv_ratio_lt_1</th>\n",
       "      <th>pe_present_on_image</th>\n",
       "      <th>path</th>\n",
       "      <th>positive_images_in_exam</th>\n",
       "      <th>broken_rule</th>\n",
       "    </tr>\n",
       "  </thead>\n",
       "  <tbody>\n",
       "  </tbody>\n",
       "</table>\n",
       "</div>"
      ],
      "text/plain": [
       "Empty DataFrame\n",
       "Columns: [StudyInstanceUID, SeriesInstanceUID, SOPInstanceUID, acute_and_chronic_pe, central_pe, chronic_pe, indeterminate, leftsided_pe, negative_exam_for_pe, rightsided_pe, rv_lv_ratio_gte_1, rv_lv_ratio_lt_1, pe_present_on_image, path, positive_images_in_exam, broken_rule]\n",
       "Index: []"
      ]
     },
     "execution_count": 29,
     "metadata": {},
     "output_type": "execute_result"
    }
   ],
   "source": [
    "check_consistency(sub, df_test)"
   ]
  },
  {
   "cell_type": "code",
   "execution_count": 30,
   "metadata": {
    "execution": {
     "iopub.execute_input": "2020-10-26T09:54:23.527606Z",
     "iopub.status.busy": "2020-10-26T09:54:23.526738Z",
     "iopub.status.idle": "2020-10-26T09:54:24.883047Z",
     "shell.execute_reply": "2020-10-26T09:54:24.881902Z"
    },
    "papermill": {
     "duration": 1.402667,
     "end_time": "2020-10-26T09:54:24.883182",
     "exception": false,
     "start_time": "2020-10-26T09:54:23.480515",
     "status": "completed"
    },
    "tags": []
   },
   "outputs": [
    {
     "data": {
      "text/html": [
       "<div>\n",
       "<style scoped>\n",
       "    .dataframe tbody tr th:only-of-type {\n",
       "        vertical-align: middle;\n",
       "    }\n",
       "\n",
       "    .dataframe tbody tr th {\n",
       "        vertical-align: top;\n",
       "    }\n",
       "\n",
       "    .dataframe thead th {\n",
       "        text-align: right;\n",
       "    }\n",
       "</style>\n",
       "<table border=\"1\" class=\"dataframe\">\n",
       "  <thead>\n",
       "    <tr style=\"text-align: right;\">\n",
       "      <th></th>\n",
       "      <th>id</th>\n",
       "      <th>label</th>\n",
       "    </tr>\n",
       "  </thead>\n",
       "  <tbody>\n",
       "    <tr>\n",
       "      <th>0</th>\n",
       "      <td>df06fad17bc3_negative_exam_for_pe</td>\n",
       "      <td>0.556913</td>\n",
       "    </tr>\n",
       "    <tr>\n",
       "      <th>1</th>\n",
       "      <td>df06fad17bc3_rv_lv_ratio_gte_1</td>\n",
       "      <td>0.161392</td>\n",
       "    </tr>\n",
       "    <tr>\n",
       "      <th>2</th>\n",
       "      <td>df06fad17bc3_rv_lv_ratio_lt_1</td>\n",
       "      <td>0.333810</td>\n",
       "    </tr>\n",
       "    <tr>\n",
       "      <th>3</th>\n",
       "      <td>df06fad17bc3_leftsided_pe</td>\n",
       "      <td>0.258288</td>\n",
       "    </tr>\n",
       "    <tr>\n",
       "      <th>4</th>\n",
       "      <td>df06fad17bc3_chronic_pe</td>\n",
       "      <td>0.109901</td>\n",
       "    </tr>\n",
       "    <tr>\n",
       "      <th>...</th>\n",
       "      <td>...</td>\n",
       "      <td>...</td>\n",
       "    </tr>\n",
       "    <tr>\n",
       "      <th>152698</th>\n",
       "      <td>5f34e0c61c00</td>\n",
       "      <td>0.927650</td>\n",
       "    </tr>\n",
       "    <tr>\n",
       "      <th>152699</th>\n",
       "      <td>ccaa309b60da</td>\n",
       "      <td>0.001473</td>\n",
       "    </tr>\n",
       "    <tr>\n",
       "      <th>152700</th>\n",
       "      <td>a274c8d0916e</td>\n",
       "      <td>0.001648</td>\n",
       "    </tr>\n",
       "    <tr>\n",
       "      <th>152701</th>\n",
       "      <td>a702de2c99c6</td>\n",
       "      <td>0.001640</td>\n",
       "    </tr>\n",
       "    <tr>\n",
       "      <th>152702</th>\n",
       "      <td>41cb110f177e</td>\n",
       "      <td>0.002019</td>\n",
       "    </tr>\n",
       "  </tbody>\n",
       "</table>\n",
       "<p>152703 rows × 2 columns</p>\n",
       "</div>"
      ],
      "text/plain": [
       "                                       id     label\n",
       "0       df06fad17bc3_negative_exam_for_pe  0.556913\n",
       "1          df06fad17bc3_rv_lv_ratio_gte_1  0.161392\n",
       "2           df06fad17bc3_rv_lv_ratio_lt_1  0.333810\n",
       "3               df06fad17bc3_leftsided_pe  0.258288\n",
       "4                 df06fad17bc3_chronic_pe  0.109901\n",
       "...                                   ...       ...\n",
       "152698                       5f34e0c61c00  0.927650\n",
       "152699                       ccaa309b60da  0.001473\n",
       "152700                       a274c8d0916e  0.001648\n",
       "152701                       a702de2c99c6  0.001640\n",
       "152702                       41cb110f177e  0.002019\n",
       "\n",
       "[152703 rows x 2 columns]"
      ]
     },
     "execution_count": 30,
     "metadata": {},
     "output_type": "execute_result"
    }
   ],
   "source": [
    "sub.to_csv('submission.csv', index=False)\n",
    "sub"
   ]
  }
 ],
 "metadata": {
  "kernelspec": {
   "display_name": "Python 3",
   "language": "python",
   "name": "python3"
  },
  "language_info": {
   "codemirror_mode": {
    "name": "ipython",
    "version": 3
   },
   "file_extension": ".py",
   "mimetype": "text/x-python",
   "name": "python",
   "nbconvert_exporter": "python",
   "pygments_lexer": "ipython3",
   "version": "3.7.6"
  },
  "papermill": {
   "duration": 8300.487799,
   "end_time": "2020-10-26T09:54:26.032587",
   "environment_variables": {},
   "exception": null,
   "input_path": "__notebook__.ipynb",
   "output_path": "__notebook__.ipynb",
   "parameters": {},
   "start_time": "2020-10-26T07:36:05.544788",
   "version": "2.1.0"
  },
  "widgets": {
   "application/vnd.jupyter.widget-state+json": {
    "state": {
     "0ae5283d57614317832fa2a43bd32867": {
      "model_module": "@jupyter-widgets/base",
      "model_module_version": "1.2.0",
      "model_name": "LayoutModel",
      "state": {
       "_model_module": "@jupyter-widgets/base",
       "_model_module_version": "1.2.0",
       "_model_name": "LayoutModel",
       "_view_count": null,
       "_view_module": "@jupyter-widgets/base",
       "_view_module_version": "1.2.0",
       "_view_name": "LayoutView",
       "align_content": null,
       "align_items": null,
       "align_self": null,
       "border": null,
       "bottom": null,
       "display": null,
       "flex": null,
       "flex_flow": null,
       "grid_area": null,
       "grid_auto_columns": null,
       "grid_auto_flow": null,
       "grid_auto_rows": null,
       "grid_column": null,
       "grid_gap": null,
       "grid_row": null,
       "grid_template_areas": null,
       "grid_template_columns": null,
       "grid_template_rows": null,
       "height": null,
       "justify_content": null,
       "justify_items": null,
       "left": null,
       "margin": null,
       "max_height": null,
       "max_width": null,
       "min_height": null,
       "min_width": null,
       "object_fit": null,
       "object_position": null,
       "order": null,
       "overflow": null,
       "overflow_x": null,
       "overflow_y": null,
       "padding": null,
       "right": null,
       "top": null,
       "visibility": null,
       "width": null
      }
     },
     "1590616ca9c64b9484483534c1d22314": {
      "model_module": "@jupyter-widgets/base",
      "model_module_version": "1.2.0",
      "model_name": "LayoutModel",
      "state": {
       "_model_module": "@jupyter-widgets/base",
       "_model_module_version": "1.2.0",
       "_model_name": "LayoutModel",
       "_view_count": null,
       "_view_module": "@jupyter-widgets/base",
       "_view_module_version": "1.2.0",
       "_view_name": "LayoutView",
       "align_content": null,
       "align_items": null,
       "align_self": null,
       "border": null,
       "bottom": null,
       "display": null,
       "flex": null,
       "flex_flow": null,
       "grid_area": null,
       "grid_auto_columns": null,
       "grid_auto_flow": null,
       "grid_auto_rows": null,
       "grid_column": null,
       "grid_gap": null,
       "grid_row": null,
       "grid_template_areas": null,
       "grid_template_columns": null,
       "grid_template_rows": null,
       "height": null,
       "justify_content": null,
       "justify_items": null,
       "left": null,
       "margin": null,
       "max_height": null,
       "max_width": null,
       "min_height": null,
       "min_width": null,
       "object_fit": null,
       "object_position": null,
       "order": null,
       "overflow": null,
       "overflow_x": null,
       "overflow_y": null,
       "padding": null,
       "right": null,
       "top": null,
       "visibility": null,
       "width": null
      }
     },
     "4d3dffcdad3f4b7d96580c645ca463e1": {
      "model_module": "@jupyter-widgets/controls",
      "model_module_version": "1.5.0",
      "model_name": "DescriptionStyleModel",
      "state": {
       "_model_module": "@jupyter-widgets/controls",
       "_model_module_version": "1.5.0",
       "_model_name": "DescriptionStyleModel",
       "_view_count": null,
       "_view_module": "@jupyter-widgets/base",
       "_view_module_version": "1.2.0",
       "_view_name": "StyleView",
       "description_width": ""
      }
     },
     "5c73056036894527ade3b30d3e06436f": {
      "model_module": "@jupyter-widgets/controls",
      "model_module_version": "1.5.0",
      "model_name": "ProgressStyleModel",
      "state": {
       "_model_module": "@jupyter-widgets/controls",
       "_model_module_version": "1.5.0",
       "_model_name": "ProgressStyleModel",
       "_view_count": null,
       "_view_module": "@jupyter-widgets/base",
       "_view_module_version": "1.2.0",
       "_view_name": "StyleView",
       "bar_color": null,
       "description_width": "initial"
      }
     },
     "6f4ed5d8793141edae5ed4df19be0a52": {
      "model_module": "@jupyter-widgets/controls",
      "model_module_version": "1.5.0",
      "model_name": "FloatProgressModel",
      "state": {
       "_dom_classes": [],
       "_model_module": "@jupyter-widgets/controls",
       "_model_module_version": "1.5.0",
       "_model_name": "FloatProgressModel",
       "_view_count": null,
       "_view_module": "@jupyter-widgets/controls",
       "_view_module_version": "1.5.0",
       "_view_name": "ProgressView",
       "bar_style": "success",
       "description": "100%",
       "description_tooltip": null,
       "layout": "IPY_MODEL_0ae5283d57614317832fa2a43bd32867",
       "max": 650.0,
       "min": 0.0,
       "orientation": "horizontal",
       "style": "IPY_MODEL_5c73056036894527ade3b30d3e06436f",
       "value": 650.0
      }
     },
     "862c34acd1c64fb9b4f94da23b9de8d7": {
      "model_module": "@jupyter-widgets/controls",
      "model_module_version": "1.5.0",
      "model_name": "HBoxModel",
      "state": {
       "_dom_classes": [],
       "_model_module": "@jupyter-widgets/controls",
       "_model_module_version": "1.5.0",
       "_model_name": "HBoxModel",
       "_view_count": null,
       "_view_module": "@jupyter-widgets/controls",
       "_view_module_version": "1.5.0",
       "_view_name": "HBoxView",
       "box_style": "",
       "children": [
        "IPY_MODEL_6f4ed5d8793141edae5ed4df19be0a52",
        "IPY_MODEL_fdbeb33af1db4bdabb194d18074dd281"
       ],
       "layout": "IPY_MODEL_1590616ca9c64b9484483534c1d22314"
      }
     },
     "a1ea24653c7547f498f3258da7450af8": {
      "model_module": "@jupyter-widgets/base",
      "model_module_version": "1.2.0",
      "model_name": "LayoutModel",
      "state": {
       "_model_module": "@jupyter-widgets/base",
       "_model_module_version": "1.2.0",
       "_model_name": "LayoutModel",
       "_view_count": null,
       "_view_module": "@jupyter-widgets/base",
       "_view_module_version": "1.2.0",
       "_view_name": "LayoutView",
       "align_content": null,
       "align_items": null,
       "align_self": null,
       "border": null,
       "bottom": null,
       "display": null,
       "flex": null,
       "flex_flow": null,
       "grid_area": null,
       "grid_auto_columns": null,
       "grid_auto_flow": null,
       "grid_auto_rows": null,
       "grid_column": null,
       "grid_gap": null,
       "grid_row": null,
       "grid_template_areas": null,
       "grid_template_columns": null,
       "grid_template_rows": null,
       "height": null,
       "justify_content": null,
       "justify_items": null,
       "left": null,
       "margin": null,
       "max_height": null,
       "max_width": null,
       "min_height": null,
       "min_width": null,
       "object_fit": null,
       "object_position": null,
       "order": null,
       "overflow": null,
       "overflow_x": null,
       "overflow_y": null,
       "padding": null,
       "right": null,
       "top": null,
       "visibility": null,
       "width": null
      }
     },
     "fdbeb33af1db4bdabb194d18074dd281": {
      "model_module": "@jupyter-widgets/controls",
      "model_module_version": "1.5.0",
      "model_name": "HTMLModel",
      "state": {
       "_dom_classes": [],
       "_model_module": "@jupyter-widgets/controls",
       "_model_module_version": "1.5.0",
       "_model_name": "HTMLModel",
       "_view_count": null,
       "_view_module": "@jupyter-widgets/controls",
       "_view_module_version": "1.5.0",
       "_view_name": "HTMLView",
       "description": "",
       "description_tooltip": null,
       "layout": "IPY_MODEL_a1ea24653c7547f498f3258da7450af8",
       "placeholder": "​",
       "style": "IPY_MODEL_4d3dffcdad3f4b7d96580c645ca463e1",
       "value": " 650/650 [2:16:12&lt;00:00, 12.57s/it]"
      }
     }
    },
    "version_major": 2,
    "version_minor": 0
   }
  }
 },
 "nbformat": 4,
 "nbformat_minor": 4
}
